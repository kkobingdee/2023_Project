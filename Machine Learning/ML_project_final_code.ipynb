{
 "cells": [
  {
   "cell_type": "code",
   "execution_count": 1,
   "id": "85edbcf5",
   "metadata": {},
   "outputs": [],
   "source": [
    "import os\n",
    "import cv2\n",
    "import matplotlib.pyplot as plt\n",
    "\n",
    "from pathlib import Path\n",
    "import numpy as np\n",
    "import pandas as pd"
   ]
  },
  {
   "cell_type": "code",
   "execution_count": 2,
   "id": "3bde82ed",
   "metadata": {},
   "outputs": [],
   "source": [
    "#Loading images\n",
    "data_dir = Path(\"C:/captcha/\")\n",
    "images = list(data_dir.glob(\"*.png\"))"
   ]
  },
  {
   "cell_type": "code",
   "execution_count": 3,
   "id": "5c3a108d",
   "metadata": {},
   "outputs": [],
   "source": [
    "# 이미지 전처리\n",
    "#Padding func\n",
    "kernel =np.ones((3,1),np.uint8)\n",
    "borderType = cv2.BORDER_CONSTANT\n",
    "\n",
    "# Calculate the padding values based on a percentage of the source image dimensions\n",
    "def pad(src):\n",
    "    # 이미지 위아래 패딩 0.05 추가\n",
    "    top = int(0.05 * src.shape[0])  # shape[0] = rows\n",
    "    bottom = top\n",
    "    # 이미지 양옆 패딩 0.15 추가\n",
    "    left = int(0.15 * src.shape[1])  # shape[1] = cols\n",
    "    right = left\n",
    "\n",
    "    des=cv2.copyMakeBorder(src, top, bottom, left+1, right, borderType, None,255)\n",
    "    return cv2.bitwise_not(des) # 원본 이미지 유지 및 패딩영역 흰색으로 만들기"
   ]
  },
  {
   "cell_type": "code",
   "execution_count": 4,
   "id": "558c4cd4",
   "metadata": {},
   "outputs": [],
   "source": [
    "x=[] #image\n",
    "y=[] #label\n",
    "\n",
    "for image in images:\n",
    "    im=cv2.imread(str(image),0) # 이미지 파일 흑백으로 읽어옴\n",
    "    threshold=cv2.adaptiveThreshold(im, 255, cv2.ADAPTIVE_THRESH_GAUSSIAN_C,cv2.THRESH_BINARY, 199, 5) # 임계값 처리\n",
    "    erosion =cv2.dilate(threshold,kernel,iterations=2)\n",
    "    s=str(image)\n",
    "    for i in range(5):\n",
    "        x.append(pad(erosion[:,(30+23*i):(30+23*(i+1))]))\n",
    "        y.append(s[-9+i])"
   ]
  },
  {
   "cell_type": "code",
   "execution_count": 21,
   "id": "40fd8806",
   "metadata": {},
   "outputs": [
    {
     "data": {
      "text/plain": [
       "<matplotlib.image.AxesImage at 0x1b045011ee0>"
      ]
     },
     "execution_count": 21,
     "metadata": {},
     "output_type": "execute_result"
    },
    {
     "data": {
      "image/png": "[encoded data removed]",
      "text/plain": [
       "<Figure size 640x480 with 1 Axes>"
      ]
     },
     "metadata": {},
     "output_type": "display_data"
    }
   ],
   "source": [
    "plt.imshow(x[65]) # 이미지를 플롯으로 출력 "
   ]
  },
  {
   "cell_type": "code",
   "execution_count": 22,
   "id": "44c274e1",
   "metadata": {},
   "outputs": [
    {
     "data": {
      "text/plain": [
       "'2'"
      ]
     },
     "execution_count": 22,
     "metadata": {},
     "output_type": "execute_result"
    }
   ],
   "source": [
    "y[65] # 해당 이미지의 label 출력"
   ]
  },
  {
   "cell_type": "code",
   "execution_count": 7,
   "id": "3abbc37d",
   "metadata": {},
   "outputs": [],
   "source": [
    "x=np.array(x)\n",
    "y=np.array(y)"
   ]
  },
  {
   "cell_type": "code",
   "execution_count": 8,
   "id": "6a8f67d8",
   "metadata": {},
   "outputs": [
    {
     "name": "stdout",
     "output_type": "stream",
     "text": [
      "[['2' '265']\n",
      " ['3' '267']\n",
      " ['4' '284']\n",
      " ['5' '281']\n",
      " ['6' '259']\n",
      " ['7' '258']\n",
      " ['8' '264']\n",
      " ['b' '240']\n",
      " ['c' '262']\n",
      " ['d' '259']\n",
      " ['e' '235']\n",
      " ['f' '271']\n",
      " ['g' '271']\n",
      " ['m' '275']\n",
      " ['n' '525']\n",
      " ['p' '253']\n",
      " ['w' '235']\n",
      " ['x' '264']\n",
      " ['y' '232']]\n"
     ]
    }
   ],
   "source": [
    "(unique, counts) = np.unique(y, return_counts=True) # 빈도수 구하기\n",
    "frequencies = np.asarray((unique, counts)).T  # 레이블과 빈도수 매칭한 2차원 배열 생성\n",
    "\n",
    "print(frequencies) # 각 label 빈도수 출력"
   ]
  },
  {
   "cell_type": "code",
   "execution_count": 9,
   "id": "24bae726",
   "metadata": {},
   "outputs": [],
   "source": [
    "data=np.reshape(x,(-1,54,30,1)) # 4차원 배열로 변환\n",
    "\n",
    "train = []\n",
    "l=['2','3','4','5','6','7','8','b','c','d','e','f','g','m','n','p','w','x','y']\n",
    "for j in y:\n",
    "    i=l.index(j)\n",
    "    a=[]\n",
    "    for r in range(19): # l리스트와 매칭되는 인덱스 생성하기 위한것\n",
    "        if(r==i):\n",
    "            a.append(1)\n",
    "        else:\n",
    "            a.append(0)\n",
    "    a=np.array(a)\n",
    "    train.append(a) # one-hot 인코딩된 레이블(a)를 리스트에 저장\n",
    "train=np.array(train) "
   ]
  },
  {
   "cell_type": "code",
   "execution_count": 10,
   "id": "68f1a4a6",
   "metadata": {},
   "outputs": [],
   "source": [
    "import matplotlib.image as mpimg\n",
    "import seaborn as sns\n",
    "%matplotlib inline\n",
    "\n",
    "np.random.seed(2)\n",
    "\n",
    "from sklearn.model_selection import train_test_split\n",
    "from sklearn.metrics import confusion_matrix\n",
    "import itertools\n",
    "\n",
    "from keras.utils.np_utils import to_categorical # convert to one-hot-encoding\n",
    "from keras.models import Sequential\n",
    "from keras.layers import Dense, Dropout, Flatten, Conv2D, MaxPool2D\n",
    "from keras.optimizers import RMSprop\n",
    "from keras.preprocessing.image import ImageDataGenerator\n",
    "from keras.callbacks import ReduceLROnPlateau\n",
    "\n",
    "\n",
    "sns.set(style='white', context='notebook', palette='deep')"
   ]
  },
  {
   "cell_type": "code",
   "execution_count": 11,
   "id": "61dbeeee",
   "metadata": {},
   "outputs": [
    {
     "name": "stdout",
     "output_type": "stream",
     "text": [
      "Model: \"sequential\"\n",
      "_________________________________________________________________\n",
      " Layer (type)                Output Shape              Param #   \n",
      "=================================================================\n",
      " conv2d (Conv2D)             (None, 54, 30, 16)        416       \n",
      "                                                                 \n",
      " conv2d_1 (Conv2D)           (None, 54, 30, 16)        6416      \n",
      "                                                                 \n",
      " max_pooling2d (MaxPooling2D  (None, 27, 15, 16)       0         \n",
      " )                                                               \n",
      "                                                                 \n",
      " dropout (Dropout)           (None, 27, 15, 16)        0         \n",
      "                                                                 \n",
      " conv2d_2 (Conv2D)           (None, 27, 15, 32)        12832     \n",
      "                                                                 \n",
      " conv2d_3 (Conv2D)           (None, 27, 15, 32)        25632     \n",
      "                                                                 \n",
      " max_pooling2d_1 (MaxPooling  (None, 13, 7, 32)        0         \n",
      " 2D)                                                             \n",
      "                                                                 \n",
      " dropout_1 (Dropout)         (None, 13, 7, 32)         0         \n",
      "                                                                 \n",
      " conv2d_4 (Conv2D)           (None, 13, 7, 64)         18496     \n",
      "                                                                 \n",
      " conv2d_5 (Conv2D)           (None, 13, 7, 64)         36928     \n",
      "                                                                 \n",
      " max_pooling2d_2 (MaxPooling  (None, 6, 3, 64)         0         \n",
      " 2D)                                                             \n",
      "                                                                 \n",
      " dropout_2 (Dropout)         (None, 6, 3, 64)          0         \n",
      "                                                                 \n",
      " flatten (Flatten)           (None, 1152)              0         \n",
      "                                                                 \n",
      " dense (Dense)               (None, 256)               295168    \n",
      "                                                                 \n",
      " dropout_3 (Dropout)         (None, 256)               0         \n",
      "                                                                 \n",
      " dense_1 (Dense)             (None, 19)                4883      \n",
      "                                                                 \n",
      "=================================================================\n",
      "Total params: 400,771\n",
      "Trainable params: 400,771\n",
      "Non-trainable params: 0\n",
      "_________________________________________________________________\n"
     ]
    }
   ],
   "source": [
    "# 모델 구성(CNN)\n",
    "model = Sequential()\n",
    "model.add(Conv2D(filters = 16, kernel_size = (5,5),padding = 'Same', \n",
    "                 activation ='relu', input_shape = (54,30,1)))\n",
    "model.add(Conv2D(filters = 16, kernel_size = (5,5),padding = 'Same', \n",
    "                 activation ='relu'))\n",
    "model.add(MaxPool2D(pool_size=(2,2)))\n",
    "model.add(Dropout(0.25))\n",
    "\n",
    "model.add(Conv2D(filters = 32, kernel_size = (5,5),padding = 'Same', \n",
    "                 activation ='relu'))\n",
    "model.add(Conv2D(filters = 32, kernel_size = (5,5),padding = 'Same', \n",
    "                 activation ='relu'))\n",
    "model.add(MaxPool2D(pool_size=(2,2)))\n",
    "model.add(Dropout(0.25))\n",
    "\n",
    "\n",
    "model.add(Conv2D(filters = 64, kernel_size = (3,3),padding = 'Same', \n",
    "                 activation ='relu'))\n",
    "model.add(Conv2D(filters = 64, kernel_size = (3,3),padding = 'Same', \n",
    "                 activation ='relu'))\n",
    "model.add(MaxPool2D(pool_size=(2,2), strides=(2,2)))\n",
    "model.add(Dropout(0.25))\n",
    "\n",
    "model.add(Flatten())\n",
    "model.add(Dense(256, activation = \"relu\"))\n",
    "model.add(Dropout(0.5))\n",
    "model.add(Dense(19, activation = \"softmax\"))\n",
    "\n",
    "model.summary() # 모델의 요약 정보"
   ]
  },
  {
   "cell_type": "code",
   "execution_count": 12,
   "id": "caa18d6d",
   "metadata": {},
   "outputs": [],
   "source": [
    "# train, test 분류(test set: 10%)\n",
    "X_train, X_test, Y_train, Y_test = train_test_split(data, train, test_size = 0.1, random_state= 2, shuffle = False)\n",
    "X_train=X_train/255.0\n",
    "X_test=X_test/255.0"
   ]
  },
  {
   "cell_type": "code",
   "execution_count": 13,
   "id": "cd1c6bf9",
   "metadata": {},
   "outputs": [],
   "source": [
    "epochs = 30\n",
    "batch_size = 86\n",
    "\n",
    "model.compile(optimizer = \"RMSprop\" , loss = \"categorical_crossentropy\", metrics=[\"accuracy\"])"
   ]
  },
  {
   "cell_type": "code",
   "execution_count": 14,
   "id": "9167f249",
   "metadata": {},
   "outputs": [
    {
     "name": "stdout",
     "output_type": "stream",
     "text": [
      "Epoch 1/30\n",
      "44/44 [==============================] - 3s 58ms/step - loss: 2.4376 - accuracy: 0.2348 - val_loss: 1.6175 - val_accuracy: 0.4818\n",
      "Epoch 2/30\n",
      "44/44 [==============================] - 3s 62ms/step - loss: 1.2852 - accuracy: 0.5962 - val_loss: 0.8934 - val_accuracy: 0.6827\n",
      "Epoch 3/30\n",
      "44/44 [==============================] - 2s 50ms/step - loss: 0.8332 - accuracy: 0.7393 - val_loss: 1.0013 - val_accuracy: 0.6389\n",
      "Epoch 4/30\n",
      "44/44 [==============================] - 2s 54ms/step - loss: 0.6441 - accuracy: 0.8056 - val_loss: 0.5039 - val_accuracy: 0.8226\n",
      "Epoch 5/30\n",
      "44/44 [==============================] - 2s 54ms/step - loss: 0.4805 - accuracy: 0.8520 - val_loss: 0.6022 - val_accuracy: 0.7639\n",
      "Epoch 6/30\n",
      "44/44 [==============================] - 3s 58ms/step - loss: 0.4242 - accuracy: 0.8747 - val_loss: 0.3871 - val_accuracy: 0.8408\n",
      "Epoch 7/30\n",
      "44/44 [==============================] - 2s 54ms/step - loss: 0.3643 - accuracy: 0.8897 - val_loss: 0.3390 - val_accuracy: 0.8686\n",
      "Epoch 8/30\n",
      "44/44 [==============================] - 2s 51ms/step - loss: 0.3015 - accuracy: 0.9108 - val_loss: 0.3365 - val_accuracy: 0.8686\n",
      "Epoch 9/30\n",
      "44/44 [==============================] - 2s 51ms/step - loss: 0.2698 - accuracy: 0.9228 - val_loss: 0.5646 - val_accuracy: 0.7959\n",
      "Epoch 10/30\n",
      "44/44 [==============================] - 2s 53ms/step - loss: 0.2386 - accuracy: 0.9263 - val_loss: 0.3491 - val_accuracy: 0.8483\n",
      "Epoch 11/30\n",
      "44/44 [==============================] - 2s 52ms/step - loss: 0.2311 - accuracy: 0.9276 - val_loss: 0.3663 - val_accuracy: 0.8462\n",
      "Epoch 12/30\n",
      "44/44 [==============================] - 2s 52ms/step - loss: 0.2015 - accuracy: 0.9410 - val_loss: 0.1974 - val_accuracy: 0.9220\n",
      "Epoch 13/30\n",
      "44/44 [==============================] - 2s 53ms/step - loss: 0.1739 - accuracy: 0.9490 - val_loss: 0.1913 - val_accuracy: 0.9231\n",
      "Epoch 14/30\n",
      "44/44 [==============================] - 2s 51ms/step - loss: 0.1595 - accuracy: 0.9503 - val_loss: 0.1890 - val_accuracy: 0.9274\n",
      "Epoch 15/30\n",
      "44/44 [==============================] - 2s 52ms/step - loss: 0.1472 - accuracy: 0.9557 - val_loss: 0.2034 - val_accuracy: 0.9199\n",
      "Epoch 16/30\n",
      "44/44 [==============================] - 3s 57ms/step - loss: 0.1418 - accuracy: 0.9573 - val_loss: 0.2121 - val_accuracy: 0.9199\n",
      "Epoch 17/30\n",
      "44/44 [==============================] - 2s 54ms/step - loss: 0.1329 - accuracy: 0.9623 - val_loss: 0.1657 - val_accuracy: 0.9359\n",
      "Epoch 18/30\n",
      "44/44 [==============================] - 2s 51ms/step - loss: 0.1282 - accuracy: 0.9597 - val_loss: 0.1898 - val_accuracy: 0.9423\n",
      "Epoch 19/30\n",
      "44/44 [==============================] - 2s 52ms/step - loss: 0.1225 - accuracy: 0.9647 - val_loss: 0.2327 - val_accuracy: 0.9135\n",
      "Epoch 20/30\n",
      "44/44 [==============================] - 2s 55ms/step - loss: 0.1112 - accuracy: 0.9655 - val_loss: 0.2202 - val_accuracy: 0.9188\n",
      "Epoch 21/30\n",
      "44/44 [==============================] - 2s 52ms/step - loss: 0.0986 - accuracy: 0.9749 - val_loss: 0.2038 - val_accuracy: 0.9220\n",
      "Epoch 22/30\n",
      "44/44 [==============================] - 2s 53ms/step - loss: 0.1041 - accuracy: 0.9677 - val_loss: 0.1576 - val_accuracy: 0.9519\n",
      "Epoch 23/30\n",
      "44/44 [==============================] - 2s 55ms/step - loss: 0.0971 - accuracy: 0.9725 - val_loss: 0.1803 - val_accuracy: 0.9370\n",
      "Epoch 24/30\n",
      "44/44 [==============================] - 2s 56ms/step - loss: 0.0836 - accuracy: 0.9738 - val_loss: 0.2093 - val_accuracy: 0.9402\n",
      "Epoch 25/30\n",
      "44/44 [==============================] - 2s 55ms/step - loss: 0.0793 - accuracy: 0.9762 - val_loss: 0.1849 - val_accuracy: 0.9412\n",
      "Epoch 26/30\n",
      "44/44 [==============================] - 2s 52ms/step - loss: 0.0737 - accuracy: 0.9778 - val_loss: 0.2043 - val_accuracy: 0.9412\n",
      "Epoch 27/30\n",
      "44/44 [==============================] - 2s 53ms/step - loss: 0.0819 - accuracy: 0.9754 - val_loss: 0.2039 - val_accuracy: 0.9348\n",
      "Epoch 28/30\n",
      "44/44 [==============================] - 2s 51ms/step - loss: 0.0713 - accuracy: 0.9792 - val_loss: 0.2751 - val_accuracy: 0.9274\n",
      "Epoch 29/30\n",
      "44/44 [==============================] - 3s 56ms/step - loss: 0.0753 - accuracy: 0.9784 - val_loss: 0.2403 - val_accuracy: 0.9284\n",
      "Epoch 30/30\n",
      "44/44 [==============================] - 2s 54ms/step - loss: 0.0659 - accuracy: 0.9808 - val_loss: 0.7254 - val_accuracy: 0.8376\n"
     ]
    }
   ],
   "source": [
    "# 모델 훈련(validation: 20%)\n",
    "history = model.fit(X_train,Y_train, epochs = epochs, batch_size = batch_size, validation_split = 0.2, verbose = 1)"
   ]
  },
  {
   "cell_type": "code",
   "execution_count": 15,
   "id": "9c36b760",
   "metadata": {},
   "outputs": [
    {
     "data": {
      "image/png": "[encoded data removed]",
      "text/plain": [
       "<Figure size 640x480 with 2 Axes>"
      ]
     },
     "metadata": {},
     "output_type": "display_data"
    }
   ],
   "source": [
    "# 학습과정 및 검증의 손실과 정확도 그래프 출력\n",
    "fig, ax = plt.subplots(2,1)\n",
    "ax[0].plot(history.history['loss'], color='b', label=\"Training loss\")\n",
    "ax[0].plot(history.history['val_loss'], color='r', label=\"validation loss\",axes =ax[0])\n",
    "legend = ax[0].legend(loc='best', shadow=True)\n",
    "\n",
    "ax[1].plot(history.history['accuracy'], color='b', label=\"Training accuracy\")\n",
    "ax[1].plot(history.history['val_accuracy'], color='r',label=\"Validation accuracy\")\n",
    "legend = ax[1].legend(loc='best', shadow=True)"
   ]
  },
  {
   "cell_type": "code",
   "execution_count": 16,
   "id": "4a765b8c",
   "metadata": {},
   "outputs": [
    {
     "name": "stdout",
     "output_type": "stream",
     "text": [
      "Loss: 0.131\n",
      "Accuracy: 95.962%\n"
     ]
    }
   ],
   "source": [
    "# 모델 성능 평가\n",
    "score = model.evaluate(X_test, Y_test, verbose = 0)\n",
    "\n",
    "print(f\"Loss: {score[0]:.3f}\")\n",
    "print(f\"Accuracy: {score[1] * 100:.3f}%\")"
   ]
  },
  {
   "cell_type": "code",
   "execution_count": 17,
   "id": "e5e387c0",
   "metadata": {},
   "outputs": [
    {
     "name": "stdout",
     "output_type": "stream",
     "text": [
      "17/17 [==============================] - 0s 8ms/step\n",
      "Image 1 - True Label: x2cnn, Predicted Label: x2cnn, Result: Correct\n",
      "Image 2 - True Label: x347n, Predicted Label: x347n, Result: Correct\n",
      "Image 3 - True Label: x362g, Predicted Label: x362g, Result: Correct\n",
      "Image 4 - True Label: x37bf, Predicted Label: x37bf, Result: Correct\n",
      "Image 5 - True Label: x38fn, Predicted Label: x38fn, Result: Correct\n",
      "Image 6 - True Label: x3deb, Predicted Label: x3deb, Result: Correct\n",
      "Image 7 - True Label: x3fwf, Predicted Label: x3fwf, Result: Correct\n",
      "Image 8 - True Label: x44n4, Predicted Label: x44n4, Result: Correct\n",
      "Image 9 - True Label: x458w, Predicted Label: x458w, Result: Correct\n",
      "Image 10 - True Label: x4f7g, Predicted Label: x4f7g, Result: Correct\n",
      "Image 11 - True Label: x4gg5, Predicted Label: x4gg5, Result: Correct\n",
      "Image 12 - True Label: x4pnp, Predicted Label: x4pnp, Result: Correct\n",
      "Image 13 - True Label: x5f54, Predicted Label: x5f54, Result: Correct\n",
      "Image 14 - True Label: x5nyn, Predicted Label: x5nyn, Result: Correct\n",
      "Image 15 - True Label: x6b5m, Predicted Label: x6b5m, Result: Correct\n",
      "Image 16 - True Label: x6pdb, Predicted Label: x6pdb, Result: Correct\n",
      "Image 17 - True Label: x7422, Predicted Label: x7422, Result: Correct\n",
      "Image 18 - True Label: x74b2, Predicted Label: x74b2, Result: Correct\n",
      "Image 19 - True Label: x7547, Predicted Label: x7547, Result: Correct\n",
      "Image 20 - True Label: x76mn, Predicted Label: x76mn, Result: Correct\n",
      "Image 21 - True Label: x7746, Predicted Label: x7746, Result: Correct\n",
      "Image 22 - True Label: x775w, Predicted Label: x775w, Result: Correct\n",
      "Image 23 - True Label: x8e8n, Predicted Label: x8e8n, Result: Correct\n",
      "Image 24 - True Label: x8xnp, Predicted Label: x8xnp, Result: Correct\n",
      "Image 25 - True Label: xbcbx, Predicted Label: xbcbx, Result: Correct\n",
      "Image 26 - True Label: xbem6, Predicted Label: xbem6, Result: Correct\n",
      "Image 27 - True Label: xc68n, Predicted Label: xc68n, Result: Correct\n",
      "Image 28 - True Label: xce8d, Predicted Label: xce8d, Result: Correct\n",
      "Image 29 - True Label: xcf88, Predicted Label: xcf88, Result: Correct\n",
      "Image 30 - True Label: xcmbp, Predicted Label: xcmbp, Result: Correct\n",
      "Image 31 - True Label: xdcn4, Predicted Label: xdcn4, Result: Correct\n",
      "Image 32 - True Label: xdn65, Predicted Label: xdn65, Result: Correct\n",
      "Image 33 - True Label: xe6eb, Predicted Label: xe6eb, Result: Correct\n",
      "Image 34 - True Label: xe8xm, Predicted Label: xe8xm, Result: Correct\n",
      "Image 35 - True Label: xemyg, Predicted Label: xemyg, Result: Correct\n",
      "Image 36 - True Label: xf4p4, Predicted Label: xf4p4, Result: Correct\n",
      "Image 37 - True Label: xf5g7, Predicted Label: xf5g7, Result: Correct\n",
      "Image 38 - True Label: xfg65, Predicted Label: xfg65, Result: Correct\n",
      "Image 39 - True Label: xfgxb, Predicted Label: xfgxb, Result: Correct\n",
      "Image 40 - True Label: xfn6n, Predicted Label: xfn6n, Result: Correct\n",
      "Image 41 - True Label: xgcxy, Predicted Label: xgcxy, Result: Correct\n",
      "Image 42 - True Label: xmcym, Predicted Label: xmcym, Result: Correct\n",
      "Image 43 - True Label: xnd3y, Predicted Label: xnd3y, Result: Correct\n",
      "Image 44 - True Label: xnfx5, Predicted Label: xnfx5, Result: Correct\n",
      "Image 45 - True Label: xngxc, Predicted Label: xngxc, Result: Correct\n",
      "Image 46 - True Label: xnn4d, Predicted Label: xnn4d, Result: Correct\n",
      "Image 47 - True Label: xnnc3, Predicted Label: xnnc3, Result: Correct\n",
      "Image 48 - True Label: xp24p, Predicted Label: xp24p, Result: Correct\n",
      "Image 49 - True Label: xw465, Predicted Label: xw465, Result: Correct\n",
      "Image 50 - True Label: xwx7d, Predicted Label: xwx7d, Result: Correct\n",
      "Image 51 - True Label: xxbm5, Predicted Label: xxbm5, Result: Correct\n",
      "Image 52 - True Label: xxney, Predicted Label: xxney, Result: Correct\n",
      "Image 53 - True Label: xxw44, Predicted Label: xxw44, Result: Correct\n",
      "Image 54 - True Label: xymfn, Predicted Label: xymfn, Result: Correct\n",
      "Image 55 - True Label: xyncc, Predicted Label: xyncc, Result: Correct\n",
      "Image 56 - True Label: xyyyw, Predicted Label: xyyyw, Result: Correct\n",
      "Image 57 - True Label: y2436, Predicted Label: y2436, Result: Correct\n",
      "Image 58 - True Label: y2xg4, Predicted Label: y2xg4, Result: Correct\n",
      "Image 59 - True Label: y2ye8, Predicted Label: y2ye8, Result: Correct\n",
      "Image 60 - True Label: y32yy, Predicted Label: y32yy, Result: Correct\n",
      "Image 61 - True Label: y33nm, Predicted Label: y33nm, Result: Correct\n",
      "Image 62 - True Label: y3c58, Predicted Label: y3c58, Result: Correct\n",
      "Image 63 - True Label: y48c3, Predicted Label: y48c3, Result: Correct\n",
      "Image 64 - True Label: y4ec2, Predicted Label: y4ec2, Result: Correct\n",
      "Image 65 - True Label: y4g3b, Predicted Label: y4g3b, Result: Correct\n",
      "Image 66 - True Label: y4n6m, Predicted Label: y4n6m, Result: Correct\n",
      "Image 67 - True Label: y53c2, Predicted Label: y53c2, Result: Correct\n",
      "Image 68 - True Label: y5dpp, Predicted Label: y5dpp, Result: Correct\n",
      "Image 69 - True Label: y5g87, Predicted Label: y5g87, Result: Correct\n",
      "Image 70 - True Label: y5n6d, Predicted Label: y5n6d, Result: Correct\n",
      "Image 71 - True Label: y5w28, Predicted Label: y5w28, Result: Correct\n",
      "Image 72 - True Label: y7d75, Predicted Label: y7d75, Result: Correct\n",
      "Image 73 - True Label: y7mnm, Predicted Label: y7mnm, Result: Correct\n",
      "Image 74 - True Label: y7x8p, Predicted Label: y7x8p, Result: Correct\n",
      "Image 75 - True Label: y866y, Predicted Label: y866y, Result: Correct\n",
      "Image 76 - True Label: ybfx6, Predicted Label: ybfx6, Result: Correct\n",
      "Image 77 - True Label: ycmcw, Predicted Label: ycmcw, Result: Correct\n",
      "Image 78 - True Label: ycnfc, Predicted Label: ycnfc, Result: Correct\n",
      "Image 79 - True Label: yd38e, Predicted Label: yd38e, Result: Correct\n",
      "Image 80 - True Label: yd3m3, Predicted Label: yd3m3, Result: Correct\n",
      "Image 81 - True Label: yd755, Predicted Label: yd755, Result: Correct\n",
      "Image 82 - True Label: ydd3g, Predicted Label: ydd3g, Result: Correct\n",
      "Image 83 - True Label: ydg8n, Predicted Label: ydg8n, Result: Correct\n",
      "Image 84 - True Label: yemy4, Predicted Label: yemy4, Result: Correct\n",
      "Image 85 - True Label: yew6p, Predicted Label: yew6p, Result: Correct\n",
      "Image 86 - True Label: yeyn4, Predicted Label: yeyn4, Result: Correct\n",
      "Image 87 - True Label: yf28d, Predicted Label: yf28d, Result: Correct\n",
      "Image 88 - True Label: yf347, Predicted Label: yf347, Result: Correct\n",
      "Image 89 - True Label: yf424, Predicted Label: yf424, Result: Correct\n",
      "Image 90 - True Label: yfdn7, Predicted Label: yfdn7, Result: Correct\n",
      "Image 91 - True Label: yg5bb, Predicted Label: yg5bb, Result: Correct\n",
      "Image 92 - True Label: ygenn, Predicted Label: ygenn, Result: Correct\n",
      "Image 93 - True Label: ygfwe, Predicted Label: ygfwe, Result: Correct\n",
      "Image 94 - True Label: ymp7g, Predicted Label: ymp7g, Result: Correct\n",
      "Image 95 - True Label: ypp8f, Predicted Label: ypp8f, Result: Correct\n",
      "Image 96 - True Label: ypw3d, Predicted Label: ypw3d, Result: Correct\n",
      "Image 97 - True Label: yw667, Predicted Label: yw667, Result: Correct\n",
      "Image 98 - True Label: yw7ny, Predicted Label: yw7ny, Result: Correct\n",
      "Image 99 - True Label: ywn6f, Predicted Label: ywn6f, Result: Correct\n",
      "Image 100 - True Label: yx2d4, Predicted Label: yx2d4, Result: Correct\n",
      "Image 101 - True Label: yxd7m, Predicted Label: yxd7m, Result: Correct\n",
      "Image 102 - True Label: yy824, Predicted Label: yy824, Result: Correct\n",
      "Image 103 - True Label: yyg5g, Predicted Label: yyg5g, Result: Correct\n",
      "Image 104 - True Label: yyn57, Predicted Label: yyn57, Result: Correct\n"
     ]
    }
   ],
   "source": [
    "# test data 예측\n",
    "predictions = model.predict(X_test)\n",
    "\n",
    "t_label = [l[np.argmax(Y_test[i])] for i in range(len(Y_test))]\n",
    "p_label = [l[np.argmax(Y_test[i])] for i in range(len(predictions))]\n",
    "\n",
    "\n",
    "true_label, pred_label = \"\", \"\"\n",
    "true_labels, pred_labels, results = [], [], []\n",
    "\n",
    "for i in range(len(X_test)):\n",
    "    true_label += t_label[i]\n",
    "    pred_label += p_label[i]\n",
    "\n",
    "    if i % 5 == 4:\n",
    "        res = \"Correct\" if t_label == p_label else \"Incorrect\"\n",
    "        true_labels.append(true_label), pred_labels.append(pred_label), results.append(res)\n",
    "\n",
    "        print(f\"Image {i//5 + 1} - True Label: {true_label}, Predicted Label: {pred_label}, Result: {res}\")\n",
    "\n",
    "        true_label, pred_label = \"\", \"\""
   ]
  },
  {
   "cell_type": "code",
   "execution_count": 18,
   "id": "2de95c20",
   "metadata": {},
   "outputs": [],
   "source": [
    "label_dict = {\"True Label\": true_labels, \"Predicted Label\":  pred_labels, \"Result\": results}\n",
    "\n",
    "df =  pd.DataFrame(label_dict)\n",
    "df.to_csv(\"./label_dictionary.csv\", index=False)"
   ]
  },
  {
   "cell_type": "code",
   "execution_count": null,
   "id": "3f263396",
   "metadata": {},
   "outputs": [],
   "source": []
  },
  {
   "cell_type": "code",
   "execution_count": null,
   "id": "c4258535",
   "metadata": {},
   "outputs": [],
   "source": []
  }
 ],
 "metadata": {
  "kernelspec": {
   "display_name": "Python 3 (ipykernel)",
   "language": "python",
   "name": "python3"
  },
  "language_info": {
   "codemirror_mode": {
    "name": "ipython",
    "version": 3
   },
   "file_extension": ".py",
   "mimetype": "text/x-python",
   "name": "python",
   "nbconvert_exporter": "python",
   "pygments_lexer": "ipython3",
   "version": "3.9.16"
  }
 },
 "nbformat": 4,
 "nbformat_minor": 5
}

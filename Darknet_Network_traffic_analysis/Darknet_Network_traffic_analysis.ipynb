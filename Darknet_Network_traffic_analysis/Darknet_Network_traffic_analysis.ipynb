{
 "cells": [
  {
   "cell_type": "code",
   "execution_count": 1,
   "metadata": {},
   "outputs": [],
   "source": [
    "import pandas as pd\n",
    "import numpy as np\n",
    "import matplotlib.pyplot as plt\n",
    "import seaborn as sns\n",
    "import ipinfo\n",
    "import json\n",
    "from tqdm import tqdm\n",
    "\n",
    "from category_encoders.hashing import HashingEncoder\n",
    "from sklearn.preprocessing import OrdinalEncoder\n",
    "from sklearn.preprocessing import OneHotEncoder\n",
    "from sklearn.preprocessing import StandardScaler"
   ]
  },
  {
   "cell_type": "code",
   "execution_count": 3,
   "metadata": {},
   "outputs": [
    {
     "name": "stderr",
     "output_type": "stream",
     "text": [
      "c:\\Users\\seung hyeon Jeon\\anaconda3\\lib\\site-packages\\IPython\\core\\interactiveshell.py:3444: FutureWarning: The error_bad_lines argument has been deprecated and will be removed in a future version.\n",
      "\n",
      "\n",
      "  exec(code_obj, self.user_global_ns, self.user_ns)\n",
      "b'Skipping line 328: expected 85 fields, saw 125\\n'\n"
     ]
    },
    {
     "data": {
      "text/html": [
       "<div>\n",
       "<style scoped>\n",
       "    .dataframe tbody tr th:only-of-type {\n",
       "        vertical-align: middle;\n",
       "    }\n",
       "\n",
       "    .dataframe tbody tr th {\n",
       "        vertical-align: top;\n",
       "    }\n",
       "\n",
       "    .dataframe thead th {\n",
       "        text-align: right;\n",
       "    }\n",
       "</style>\n",
       "<table border=\"1\" class=\"dataframe\">\n",
       "  <thead>\n",
       "    <tr style=\"text-align: right;\">\n",
       "      <th></th>\n",
       "      <th>Flow ID</th>\n",
       "      <th>Src IP</th>\n",
       "      <th>Src Port</th>\n",
       "      <th>Dst IP</th>\n",
       "      <th>Dst Port</th>\n",
       "      <th>Protocol</th>\n",
       "      <th>Timestamp</th>\n",
       "      <th>Flow Duration</th>\n",
       "      <th>Total Fwd Packet</th>\n",
       "      <th>Total Bwd packets</th>\n",
       "      <th>...</th>\n",
       "      <th>Active Mean</th>\n",
       "      <th>Active Std</th>\n",
       "      <th>Active Max</th>\n",
       "      <th>Active Min</th>\n",
       "      <th>Idle Mean</th>\n",
       "      <th>Idle Std</th>\n",
       "      <th>Idle Max</th>\n",
       "      <th>Idle Min</th>\n",
       "      <th>Label</th>\n",
       "      <th>Label.1</th>\n",
       "    </tr>\n",
       "  </thead>\n",
       "  <tbody>\n",
       "    <tr>\n",
       "      <th>0</th>\n",
       "      <td>10.152.152.11-216.58.220.99-57158-443-6</td>\n",
       "      <td>10.152.152.11</td>\n",
       "      <td>57158</td>\n",
       "      <td>216.58.220.99</td>\n",
       "      <td>443</td>\n",
       "      <td>6</td>\n",
       "      <td>24/07/2015 04:09:48 PM</td>\n",
       "      <td>229</td>\n",
       "      <td>1</td>\n",
       "      <td>1</td>\n",
       "      <td>...</td>\n",
       "      <td>0</td>\n",
       "      <td>0</td>\n",
       "      <td>0</td>\n",
       "      <td>0</td>\n",
       "      <td>0.000000e+00</td>\n",
       "      <td>0.000000e+00</td>\n",
       "      <td>0.000000e+00</td>\n",
       "      <td>0.000000e+00</td>\n",
       "      <td>Non-Tor</td>\n",
       "      <td>AUDIO-STREAMING</td>\n",
       "    </tr>\n",
       "    <tr>\n",
       "      <th>1</th>\n",
       "      <td>10.152.152.11-216.58.220.99-57159-443-6</td>\n",
       "      <td>10.152.152.11</td>\n",
       "      <td>57159</td>\n",
       "      <td>216.58.220.99</td>\n",
       "      <td>443</td>\n",
       "      <td>6</td>\n",
       "      <td>24/07/2015 04:09:48 PM</td>\n",
       "      <td>407</td>\n",
       "      <td>1</td>\n",
       "      <td>1</td>\n",
       "      <td>...</td>\n",
       "      <td>0</td>\n",
       "      <td>0</td>\n",
       "      <td>0</td>\n",
       "      <td>0</td>\n",
       "      <td>0.000000e+00</td>\n",
       "      <td>0.000000e+00</td>\n",
       "      <td>0.000000e+00</td>\n",
       "      <td>0.000000e+00</td>\n",
       "      <td>Non-Tor</td>\n",
       "      <td>AUDIO-STREAMING</td>\n",
       "    </tr>\n",
       "    <tr>\n",
       "      <th>2</th>\n",
       "      <td>10.152.152.11-216.58.220.99-57160-443-6</td>\n",
       "      <td>10.152.152.11</td>\n",
       "      <td>57160</td>\n",
       "      <td>216.58.220.99</td>\n",
       "      <td>443</td>\n",
       "      <td>6</td>\n",
       "      <td>24/07/2015 04:09:48 PM</td>\n",
       "      <td>431</td>\n",
       "      <td>1</td>\n",
       "      <td>1</td>\n",
       "      <td>...</td>\n",
       "      <td>0</td>\n",
       "      <td>0</td>\n",
       "      <td>0</td>\n",
       "      <td>0</td>\n",
       "      <td>0.000000e+00</td>\n",
       "      <td>0.000000e+00</td>\n",
       "      <td>0.000000e+00</td>\n",
       "      <td>0.000000e+00</td>\n",
       "      <td>Non-Tor</td>\n",
       "      <td>AUDIO-STREAMING</td>\n",
       "    </tr>\n",
       "    <tr>\n",
       "      <th>3</th>\n",
       "      <td>10.152.152.11-74.125.136.120-49134-443-6</td>\n",
       "      <td>10.152.152.11</td>\n",
       "      <td>49134</td>\n",
       "      <td>74.125.136.120</td>\n",
       "      <td>443</td>\n",
       "      <td>6</td>\n",
       "      <td>24/07/2015 04:09:48 PM</td>\n",
       "      <td>359</td>\n",
       "      <td>1</td>\n",
       "      <td>1</td>\n",
       "      <td>...</td>\n",
       "      <td>0</td>\n",
       "      <td>0</td>\n",
       "      <td>0</td>\n",
       "      <td>0</td>\n",
       "      <td>0.000000e+00</td>\n",
       "      <td>0.000000e+00</td>\n",
       "      <td>0.000000e+00</td>\n",
       "      <td>0.000000e+00</td>\n",
       "      <td>Non-Tor</td>\n",
       "      <td>AUDIO-STREAMING</td>\n",
       "    </tr>\n",
       "    <tr>\n",
       "      <th>4</th>\n",
       "      <td>10.152.152.11-173.194.65.127-34697-19305-6</td>\n",
       "      <td>10.152.152.11</td>\n",
       "      <td>34697</td>\n",
       "      <td>173.194.65.127</td>\n",
       "      <td>19305</td>\n",
       "      <td>6</td>\n",
       "      <td>24/07/2015 04:09:45 PM</td>\n",
       "      <td>10778451</td>\n",
       "      <td>591</td>\n",
       "      <td>400</td>\n",
       "      <td>...</td>\n",
       "      <td>0</td>\n",
       "      <td>0</td>\n",
       "      <td>0</td>\n",
       "      <td>0</td>\n",
       "      <td>1.437765e+15</td>\n",
       "      <td>3.117718e+06</td>\n",
       "      <td>1.437765e+15</td>\n",
       "      <td>1.437765e+15</td>\n",
       "      <td>Non-Tor</td>\n",
       "      <td>AUDIO-STREAMING</td>\n",
       "    </tr>\n",
       "  </tbody>\n",
       "</table>\n",
       "<p>5 rows × 85 columns</p>\n",
       "</div>"
      ],
      "text/plain": [
       "                                      Flow ID         Src IP  Src Port  \\\n",
       "0     10.152.152.11-216.58.220.99-57158-443-6  10.152.152.11     57158   \n",
       "1     10.152.152.11-216.58.220.99-57159-443-6  10.152.152.11     57159   \n",
       "2     10.152.152.11-216.58.220.99-57160-443-6  10.152.152.11     57160   \n",
       "3    10.152.152.11-74.125.136.120-49134-443-6  10.152.152.11     49134   \n",
       "4  10.152.152.11-173.194.65.127-34697-19305-6  10.152.152.11     34697   \n",
       "\n",
       "           Dst IP  Dst Port  Protocol               Timestamp  Flow Duration  \\\n",
       "0   216.58.220.99       443         6  24/07/2015 04:09:48 PM            229   \n",
       "1   216.58.220.99       443         6  24/07/2015 04:09:48 PM            407   \n",
       "2   216.58.220.99       443         6  24/07/2015 04:09:48 PM            431   \n",
       "3  74.125.136.120       443         6  24/07/2015 04:09:48 PM            359   \n",
       "4  173.194.65.127     19305         6  24/07/2015 04:09:45 PM       10778451   \n",
       "\n",
       "   Total Fwd Packet  Total Bwd packets  ...  Active Mean  Active Std  \\\n",
       "0                 1                  1  ...            0           0   \n",
       "1                 1                  1  ...            0           0   \n",
       "2                 1                  1  ...            0           0   \n",
       "3                 1                  1  ...            0           0   \n",
       "4               591                400  ...            0           0   \n",
       "\n",
       "   Active Max  Active Min     Idle Mean      Idle Std      Idle Max  \\\n",
       "0           0           0  0.000000e+00  0.000000e+00  0.000000e+00   \n",
       "1           0           0  0.000000e+00  0.000000e+00  0.000000e+00   \n",
       "2           0           0  0.000000e+00  0.000000e+00  0.000000e+00   \n",
       "3           0           0  0.000000e+00  0.000000e+00  0.000000e+00   \n",
       "4           0           0  1.437765e+15  3.117718e+06  1.437765e+15   \n",
       "\n",
       "       Idle Min    Label          Label.1  \n",
       "0  0.000000e+00  Non-Tor  AUDIO-STREAMING  \n",
       "1  0.000000e+00  Non-Tor  AUDIO-STREAMING  \n",
       "2  0.000000e+00  Non-Tor  AUDIO-STREAMING  \n",
       "3  0.000000e+00  Non-Tor  AUDIO-STREAMING  \n",
       "4  1.437765e+15  Non-Tor  AUDIO-STREAMING  \n",
       "\n",
       "[5 rows x 85 columns]"
      ]
     },
     "execution_count": 3,
     "metadata": {},
     "output_type": "execute_result"
    }
   ],
   "source": [
    "data = pd.read_csv('Darknet.csv', low_memory=False, error_bad_lines=False)\n",
    "data.head()"
   ]
  },
  {
   "cell_type": "code",
   "execution_count": 4,
   "metadata": {},
   "outputs": [],
   "source": [
    "samples = data.copy()"
   ]
  },
  {
   "cell_type": "code",
   "execution_count": 5,
   "metadata": {},
   "outputs": [
    {
     "name": "stdout",
     "output_type": "stream",
     "text": [
      "['Non-Tor' 'NonVPN' 'Tor' 'VPN']\n",
      "['AUDIO-STREAMING' 'Browsing' 'Chat' 'Email' 'File-Transfer'\n",
      " 'File-transfer' 'P2P' 'Video-Streaming' 'Audio-Streaming'\n",
      " 'Video-streaming' 'VOIP']\n"
     ]
    }
   ],
   "source": [
    "traffic_labels = samples[\"Label\"].unique()\n",
    "print(traffic_labels)\n",
    "traffic_type_labels = samples[\"Label.1\"].unique()\n",
    "print(traffic_type_labels)"
   ]
  },
  {
   "cell_type": "code",
   "execution_count": 6,
   "metadata": {},
   "outputs": [
    {
     "name": "stdout",
     "output_type": "stream",
     "text": [
      "['Audio-Streaming' 'Browsing' 'Chat' 'Email' 'File-Transfer' 'P2P'\n",
      " 'Video-Streaming' 'VOIP']\n"
     ]
    },
    {
     "name": "stderr",
     "output_type": "stream",
     "text": [
      "c:\\Users\\seung hyeon Jeon\\anaconda3\\lib\\site-packages\\pandas\\core\\indexing.py:1732: SettingWithCopyWarning: \n",
      "A value is trying to be set on a copy of a slice from a DataFrame\n",
      "\n",
      "See the caveats in the documentation: https://pandas.pydata.org/pandas-docs/stable/user_guide/indexing.html#returning-a-view-versus-a-copy\n",
      "  self._setitem_single_block(indexer, value, name)\n"
     ]
    }
   ],
   "source": [
    "samples['Label.1'].loc[samples['Label.1'] == 'AUDIO-STREAMING'] = 'Audio-Streaming'\n",
    "samples['Label.1'].loc[samples['Label.1'] == 'File-transfer'] = 'File-Transfer'\n",
    "samples['Label.1'].loc[samples['Label.1'] == 'Video-streaming'] = 'Video-Streaming'\n",
    "\n",
    "traffic_type_labels = samples[\"Label.1\"].unique()\n",
    "print(traffic_type_labels)"
   ]
  },
  {
   "cell_type": "code",
   "execution_count": 7,
   "metadata": {},
   "outputs": [
    {
     "name": "stdout",
     "output_type": "stream",
     "text": [
      "['Clearnet' 'Darknet']\n"
     ]
    }
   ],
   "source": [
    "samples['Label'].loc[(samples['Label'] == 'Non-Tor') | (samples['Label'] == 'NonVPN')] = 'Clearnet'\n",
    "samples['Label'].loc[(samples['Label'] == 'Tor') | (samples['Label'] == 'VPN')] = 'Darknet'\n",
    "\n",
    "traffic_labels = samples[\"Label\"].unique()\n",
    "print(traffic_labels)"
   ]
  },
  {
   "cell_type": "code",
   "execution_count": 8,
   "metadata": {},
   "outputs": [
    {
     "name": "stdout",
     "output_type": "stream",
     "text": [
      "                Timestamp  hour\n",
      "0  24/07/2015 04:09:48 PM     4\n",
      "1  24/07/2015 04:09:48 PM     4\n",
      "2  24/07/2015 04:09:48 PM     4\n",
      "3  24/07/2015 04:09:48 PM     4\n",
      "4  24/07/2015 04:09:45 PM     4\n"
     ]
    }
   ],
   "source": [
    "hours = []\n",
    "for timestamp in samples['Timestamp']:\n",
    "    hora = int(timestamp.split()[1].split(':')[0])\n",
    "    hours.append(hora)\n",
    "samples['hour'] = hours\n",
    "print(samples[['Timestamp', 'hour']][:5])"
   ]
  },
  {
   "cell_type": "code",
   "execution_count": 9,
   "metadata": {},
   "outputs": [],
   "source": [
    "def create_grams(ip):\n",
    "    parts = ip.split('.')\n",
    "    one_gram = parts[0]\n",
    "    two_gram = parts[0] + \" \" + parts[1]\n",
    "    three_gram = parts[0] + \" \" + parts[1] + \" \" + parts[2]\n",
    "    return one_gram, two_gram, three_gram"
   ]
  },
  {
   "cell_type": "code",
   "execution_count": 10,
   "metadata": {},
   "outputs": [],
   "source": [
    "src_one_gram = []\n",
    "src_two_gram = []\n",
    "src_three_gram = []\n",
    "dst_one_gram = []\n",
    "dst_two_gram = []\n",
    "dst_three_gram = []\n",
    "\n",
    "for src_ip, dst_ip in zip(samples[\"Src IP\"], samples[\"Dst IP\"]): \n",
    "    src_one, src_two, src_three = create_grams(src_ip)\n",
    "    src_one_gram.append(src_one)\n",
    "    src_two_gram.append(src_two)\n",
    "    src_three_gram.append(src_three)\n",
    "    dst_one, dst_two, dst_three = create_grams(dst_ip)\n",
    "    dst_one_gram.append(dst_one)\n",
    "    dst_two_gram.append(dst_two)\n",
    "    dst_three_gram.append(dst_three)\n",
    "\n",
    "samples[\"src_ip_1gram\"] = src_one_gram\n",
    "samples[\"src_ip_2gram\"] = src_two_gram\n",
    "samples[\"src_ip_3gram\"] = src_three_gram\n",
    "\n",
    "samples[\"dst_ip_1gram\"] = dst_one_gram\n",
    "samples[\"dst_ip_2gram\"] = dst_two_gram\n",
    "samples[\"dst_ip_3gram\"] = dst_three_gram"
   ]
  },
  {
   "cell_type": "code",
   "execution_count": 11,
   "metadata": {},
   "outputs": [
    {
     "name": "stdout",
     "output_type": "stream",
     "text": [
      "            Src IP src_ip_1gram src_ip_2gram src_ip_3gram\n",
      "200  10.152.152.11           10       10 152   10 152 152\n",
      "201  74.125.28.189           74       74 125    74 125 28\n",
      "202  74.125.28.189           74       74 125    74 125 28\n",
      "203  10.152.152.11           10       10 152   10 152 152\n",
      "204  10.152.152.11           10       10 152   10 152 152\n",
      "           Dst IP dst_ip_1gram dst_ip_2gram dst_ip_3gram\n",
      "0   216.58.220.99          216       216 58   216 58 220\n",
      "1   216.58.220.99          216       216 58   216 58 220\n",
      "2   216.58.220.99          216       216 58   216 58 220\n",
      "3  74.125.136.120           74       74 125   74 125 136\n",
      "4  173.194.65.127          173      173 194   173 194 65\n"
     ]
    }
   ],
   "source": [
    "print(samples[[\"Src IP\",\"src_ip_1gram\",\"src_ip_2gram\",\"src_ip_3gram\"]][200:205])\n",
    "print(samples[[\"Dst IP\",\"dst_ip_1gram\",\"dst_ip_2gram\",\"dst_ip_3gram\"]][:5])"
   ]
  },
  {
   "cell_type": "code",
   "execution_count": 12,
   "metadata": {},
   "outputs": [],
   "source": [
    "def get_ip_detail(ip, ip_dict, repeated):\n",
    "    if ip not in ip_dict.keys():\n",
    "        details = ipinfo_handler.getDetails(ip)\n",
    "        ip_dict[ip] = details.all\n",
    "    else:\n",
    "        repeated += 1\n",
    "    return repeated\n",
    "\n",
    "def dump_ips(ip_dict, folder):\n",
    "    j = json.dumps(ip_dict)\n",
    "    f = open(folder+\"ips_dict.json\",\"w\")\n",
    "    f.write(j)\n",
    "    f.close()\n",
    "\n",
    "def load_ips(file):\n",
    "    data = {}\n",
    "    with open(file) as json_file:\n",
    "        data = json.load(json_file)\n",
    "    return data"
   ]
  },
  {
   "cell_type": "code",
   "execution_count": 13,
   "metadata": {},
   "outputs": [],
   "source": [
    "ip_dict = load_ips(\"ips_dict.json\")"
   ]
  },
  {
   "cell_type": "code",
   "execution_count": 14,
   "metadata": {},
   "outputs": [
    {
     "name": "stderr",
     "output_type": "stream",
     "text": [
      "100%|██████████| 11111/11111 [00:00<00:00, 1591357.75it/s]\n"
     ]
    }
   ],
   "source": [
    "ips = np.concatenate((samples[\"Src IP\"].unique(), samples[\"Dst IP\"].unique())) \n",
    "for i in tqdm(range(len(ips))):\n",
    "    get_ip_detail(ips[i], ip_dict, 0)\n",
    "dump_ips(ip_dict, \"\")"
   ]
  },
  {
   "cell_type": "code",
   "execution_count": 15,
   "metadata": {},
   "outputs": [
    {
     "name": "stderr",
     "output_type": "stream",
     "text": [
      "100%|██████████| 141530/141530 [00:00<00:00, 810773.32it/s]\n"
     ]
    }
   ],
   "source": [
    "ips_tuple = zip(samples[\"Src IP\"], samples[\"Dst IP\"])\n",
    "dst_ip_country = []\n",
    "src_ip_country = []\n",
    "src_bogon = []\n",
    "dst_bogon = []\n",
    "\n",
    "for src_ip, dst_ip in tqdm(ips_tuple, total=len(samples[\"Src IP\"])):\n",
    "    if 'country' in ip_dict[dst_ip].keys():\n",
    "        dst_ip_country.append(ip_dict[dst_ip]['country'])\n",
    "    else:\n",
    "        dst_ip_country.append(\"\")\n",
    "    if 'country' in ip_dict[src_ip].keys():\n",
    "        src_ip_country.append(ip_dict[src_ip]['country'])\n",
    "    else:\n",
    "        src_ip_country.append(\"\")\n",
    "    if 'bogon' in ip_dict[dst_ip].keys():\n",
    "        dst_bogon.append(ip_dict[dst_ip]['bogon'])\n",
    "    else:\n",
    "        dst_bogon.append(False)\n",
    "    if 'bogon' in ip_dict[src_ip].keys():\n",
    "        src_bogon.append(ip_dict[src_ip]['bogon'])\n",
    "    else:\n",
    "        src_bogon.append(False)\n",
    "samples['src_ip_country'] = src_ip_country\n",
    "samples['dst_ip_country'] = dst_ip_country\n",
    "samples['src_bogon'] = src_bogon\n",
    "samples['dst_bogon'] = dst_bogon"
   ]
  },
  {
   "cell_type": "code",
   "execution_count": 16,
   "metadata": {},
   "outputs": [
    {
     "name": "stdout",
     "output_type": "stream",
     "text": [
      "['Flow Duration', 'Total Fwd Packet', 'Total Bwd packets', 'Total Length of Fwd Packet', 'Total Length of Bwd Packet', 'Fwd Packet Length Max', 'Fwd Packet Length Min', 'Fwd Packet Length Mean', 'Fwd Packet Length Std', 'Bwd Packet Length Max', 'Bwd Packet Length Min', 'Bwd Packet Length Mean', 'Bwd Packet Length Std', 'Flow Bytes/s', 'Flow Packets/s', 'Flow IAT Mean', 'Flow IAT Std', 'Flow IAT Max', 'Flow IAT Min', 'Fwd IAT Total', 'Fwd IAT Mean', 'Fwd IAT Std', 'Fwd IAT Max', 'Fwd IAT Min', 'Bwd IAT Total', 'Bwd IAT Mean', 'Bwd IAT Std', 'Bwd IAT Max', 'Bwd IAT Min', 'Fwd PSH Flags', 'Bwd PSH Flags', 'Fwd URG Flags', 'Bwd URG Flags', 'Fwd Header Length', 'Bwd Header Length', 'Fwd Packets/s', 'Bwd Packets/s', 'Packet Length Min', 'Packet Length Max', 'Packet Length Mean', 'Packet Length Std', 'Packet Length Variance', 'FIN Flag Count', 'SYN Flag Count', 'RST Flag Count', 'PSH Flag Count', 'ACK Flag Count', 'URG Flag Count', 'CWE Flag Count', 'ECE Flag Count', 'Down/Up Ratio', 'Average Packet Size', 'Fwd Segment Size Avg', 'Bwd Segment Size Avg', 'Fwd Bytes/Bulk Avg', 'Fwd Packet/Bulk Avg', 'Fwd Bulk Rate Avg', 'Bwd Bytes/Bulk Avg', 'Bwd Packet/Bulk Avg', 'Bwd Bulk Rate Avg', 'Subflow Fwd Packets', 'Subflow Fwd Bytes', 'Subflow Bwd Packets', 'Subflow Bwd Bytes', 'FWD Init Win Bytes', 'Bwd Init Win Bytes', 'Fwd Act Data Pkts', 'Fwd Seg Size Min']\n"
     ]
    }
   ],
   "source": [
    "real_columns = ['Flow Duration', 'Total Fwd Packet', 'Total Bwd packets', 'Total Length of Fwd Packet', 'Total Length of Bwd Packet', 'Fwd Packet Length Max', 'Fwd Packet Length Min', 'Fwd Packet Length Mean', 'Fwd Packet Length Std', 'Bwd Packet Length Max', 'Bwd Packet Length Min', 'Bwd Packet Length Mean', 'Bwd Packet Length Std', 'Flow Bytes/s', 'Flow Packets/s', 'Flow IAT Mean', 'Flow IAT Std', 'Flow IAT Max', 'Flow IAT Min', 'Fwd IAT Total', 'Fwd IAT Mean', 'Fwd IAT Std', 'Fwd IAT Max', 'Fwd IAT Min', 'Bwd IAT Total', 'Bwd IAT Mean', 'Bwd IAT Std', 'Bwd IAT Max', 'Bwd IAT Min', 'Fwd PSH Flags', 'Bwd PSH Flags', 'Fwd URG Flags', 'Bwd URG Flags', 'Fwd Header Length', 'Bwd Header Length', 'Fwd Packets/s', 'Bwd Packets/s', 'Packet Length Min', 'Packet Length Max', 'Packet Length Mean', 'Packet Length Std', 'Packet Length Variance', 'FIN Flag Count', 'SYN Flag Count', 'RST Flag Count', 'PSH Flag Count', 'ACK Flag Count', 'URG Flag Count', 'CWE Flag Count', 'ECE Flag Count', 'Down/Up Ratio', 'Average Packet Size', 'Fwd Segment Size Avg', 'Bwd Segment Size Avg', 'Fwd Bytes/Bulk Avg', 'Fwd Packet/Bulk Avg', 'Fwd Bulk Rate Avg', 'Bwd Bytes/Bulk Avg', 'Bwd Packet/Bulk Avg', 'Bwd Bulk Rate Avg', 'Subflow Fwd Packets', 'Subflow Fwd Bytes', 'Subflow Bwd Packets', 'Subflow Bwd Bytes', 'FWD Init Win Bytes', 'Bwd Init Win Bytes', 'Fwd Act Data Pkts', 'Fwd Seg Size Min']\n",
    "print(real_columns)"
   ]
  },
  {
   "cell_type": "code",
   "execution_count": 17,
   "metadata": {},
   "outputs": [
    {
     "data": {
      "text/plain": [
       "Flow Bytes/s    47\n",
       "dtype: int64"
      ]
     },
     "execution_count": 17,
     "metadata": {},
     "output_type": "execute_result"
    }
   ],
   "source": [
    "is_na_cols = samples.columns[samples.isna().sum() > 0]\n",
    "samples.isna().sum()[is_na_cols] "
   ]
  },
  {
   "cell_type": "code",
   "execution_count": 18,
   "metadata": {},
   "outputs": [
    {
     "data": {
      "text/plain": [
       "Flow Bytes/s    0\n",
       "dtype: int64"
      ]
     },
     "execution_count": 18,
     "metadata": {},
     "output_type": "execute_result"
    }
   ],
   "source": [
    "samples = samples.dropna()\n",
    "samples.isna().sum()[is_na_cols] "
   ]
  },
  {
   "cell_type": "code",
   "execution_count": 19,
   "metadata": {},
   "outputs": [],
   "source": [
    "samples[real_columns] = samples[real_columns].astype(np.float64)\n",
    "samples[real_columns] = samples[real_columns].replace([np.inf, -np.inf], np.nan)\n",
    "samples[real_columns] = samples[real_columns].dropna()"
   ]
  },
  {
   "cell_type": "code",
   "execution_count": 20,
   "metadata": {},
   "outputs": [],
   "source": [
    "model_samples = samples.copy()\n",
    "\n",
    "del model_samples['Flow ID']\n",
    "del model_samples['Timestamp']\n",
    "del model_samples['Src IP']\n",
    "del model_samples['Dst IP']"
   ]
  },
  {
   "cell_type": "code",
   "execution_count": 21,
   "metadata": {},
   "outputs": [],
   "source": [
    "cols = np.concatenate((model_samples.columns[81:], model_samples.columns[:81]))\n",
    "model_samples = model_samples[cols]"
   ]
  },
  {
   "cell_type": "code",
   "execution_count": 22,
   "metadata": {},
   "outputs": [
    {
     "data": {
      "text/plain": [
       "Index(['hour', 'src_ip_1gram', 'src_ip_2gram', 'src_ip_3gram', 'dst_ip_1gram',\n",
       "       'dst_ip_2gram', 'dst_ip_3gram', 'src_ip_country', 'dst_ip_country',\n",
       "       'src_bogon', 'dst_bogon', 'Src Port', 'Dst Port', 'Protocol',\n",
       "       'Flow Duration', 'Total Fwd Packet', 'Total Bwd packets',\n",
       "       'Total Length of Fwd Packet', 'Total Length of Bwd Packet',\n",
       "       'Fwd Packet Length Max', 'Fwd Packet Length Min',\n",
       "       'Fwd Packet Length Mean', 'Fwd Packet Length Std',\n",
       "       'Bwd Packet Length Max', 'Bwd Packet Length Min',\n",
       "       'Bwd Packet Length Mean', 'Bwd Packet Length Std', 'Flow Bytes/s',\n",
       "       'Flow Packets/s', 'Flow IAT Mean', 'Flow IAT Std', 'Flow IAT Max',\n",
       "       'Flow IAT Min', 'Fwd IAT Total', 'Fwd IAT Mean', 'Fwd IAT Std',\n",
       "       'Fwd IAT Max', 'Fwd IAT Min', 'Bwd IAT Total', 'Bwd IAT Mean',\n",
       "       'Bwd IAT Std', 'Bwd IAT Max', 'Bwd IAT Min', 'Fwd PSH Flags',\n",
       "       'Bwd PSH Flags', 'Fwd URG Flags', 'Bwd URG Flags', 'Fwd Header Length',\n",
       "       'Bwd Header Length', 'Fwd Packets/s', 'Bwd Packets/s',\n",
       "       'Packet Length Min', 'Packet Length Max', 'Packet Length Mean',\n",
       "       'Packet Length Std', 'Packet Length Variance', 'FIN Flag Count',\n",
       "       'SYN Flag Count', 'RST Flag Count', 'PSH Flag Count', 'ACK Flag Count',\n",
       "       'URG Flag Count', 'CWE Flag Count', 'ECE Flag Count', 'Down/Up Ratio',\n",
       "       'Average Packet Size', 'Fwd Segment Size Avg', 'Bwd Segment Size Avg',\n",
       "       'Fwd Bytes/Bulk Avg', 'Fwd Packet/Bulk Avg', 'Fwd Bulk Rate Avg',\n",
       "       'Bwd Bytes/Bulk Avg', 'Bwd Packet/Bulk Avg', 'Bwd Bulk Rate Avg',\n",
       "       'Subflow Fwd Packets', 'Subflow Fwd Bytes', 'Subflow Bwd Packets',\n",
       "       'Subflow Bwd Bytes', 'FWD Init Win Bytes', 'Bwd Init Win Bytes',\n",
       "       'Fwd Act Data Pkts', 'Fwd Seg Size Min', 'Active Mean', 'Active Std',\n",
       "       'Active Max', 'Active Min', 'Idle Mean', 'Idle Std', 'Idle Max',\n",
       "       'Idle Min', 'Label', 'Label.1'],\n",
       "      dtype='object')"
      ]
     },
     "execution_count": 22,
     "metadata": {},
     "output_type": "execute_result"
    }
   ],
   "source": [
    "model_samples.columns"
   ]
  },
  {
   "cell_type": "code",
   "execution_count": 23,
   "metadata": {},
   "outputs": [
    {
     "name": "stdout",
     "output_type": "stream",
     "text": [
      "['src_ip_1gram', 'src_ip_2gram', 'src_ip_3gram', 'dst_ip_1gram', 'dst_ip_2gram', 'dst_ip_3gram']\n",
      "['src_ip_country', 'dst_ip_country']\n"
     ]
    }
   ],
   "source": [
    "hash_enc_cols = ['src_ip_1gram', 'src_ip_2gram', 'src_ip_3gram', 'dst_ip_1gram',\n",
    " 'dst_ip_2gram', 'dst_ip_3gram']\n",
    "print(hash_enc_cols)\n",
    "ord_enc_cols = ['src_ip_country','dst_ip_country']\n",
    "print(ord_enc_cols)"
   ]
  },
  {
   "cell_type": "code",
   "execution_count": 24,
   "metadata": {},
   "outputs": [
    {
     "data": {
      "text/html": [
       "<div>\n",
       "<style scoped>\n",
       "    .dataframe tbody tr th:only-of-type {\n",
       "        vertical-align: middle;\n",
       "    }\n",
       "\n",
       "    .dataframe tbody tr th {\n",
       "        vertical-align: top;\n",
       "    }\n",
       "\n",
       "    .dataframe thead th {\n",
       "        text-align: right;\n",
       "    }\n",
       "</style>\n",
       "<table border=\"1\" class=\"dataframe\">\n",
       "  <thead>\n",
       "    <tr style=\"text-align: right;\">\n",
       "      <th></th>\n",
       "      <th>col_0</th>\n",
       "      <th>col_1</th>\n",
       "      <th>col_2</th>\n",
       "      <th>col_3</th>\n",
       "      <th>col_4</th>\n",
       "      <th>col_5</th>\n",
       "      <th>col_6</th>\n",
       "      <th>col_7</th>\n",
       "      <th>col_8</th>\n",
       "      <th>col_9</th>\n",
       "      <th>...</th>\n",
       "      <th>Active Mean</th>\n",
       "      <th>Active Std</th>\n",
       "      <th>Active Max</th>\n",
       "      <th>Active Min</th>\n",
       "      <th>Idle Mean</th>\n",
       "      <th>Idle Std</th>\n",
       "      <th>Idle Max</th>\n",
       "      <th>Idle Min</th>\n",
       "      <th>Label</th>\n",
       "      <th>Label.1</th>\n",
       "    </tr>\n",
       "  </thead>\n",
       "  <tbody>\n",
       "    <tr>\n",
       "      <th>0</th>\n",
       "      <td>0</td>\n",
       "      <td>0</td>\n",
       "      <td>0</td>\n",
       "      <td>0</td>\n",
       "      <td>0</td>\n",
       "      <td>0</td>\n",
       "      <td>0</td>\n",
       "      <td>0</td>\n",
       "      <td>0</td>\n",
       "      <td>0</td>\n",
       "      <td>...</td>\n",
       "      <td>0</td>\n",
       "      <td>0</td>\n",
       "      <td>0</td>\n",
       "      <td>0</td>\n",
       "      <td>0.000000e+00</td>\n",
       "      <td>0.000000e+00</td>\n",
       "      <td>0.000000e+00</td>\n",
       "      <td>0.000000e+00</td>\n",
       "      <td>Clearnet</td>\n",
       "      <td>Audio-Streaming</td>\n",
       "    </tr>\n",
       "    <tr>\n",
       "      <th>1</th>\n",
       "      <td>0</td>\n",
       "      <td>0</td>\n",
       "      <td>0</td>\n",
       "      <td>0</td>\n",
       "      <td>0</td>\n",
       "      <td>0</td>\n",
       "      <td>0</td>\n",
       "      <td>0</td>\n",
       "      <td>0</td>\n",
       "      <td>0</td>\n",
       "      <td>...</td>\n",
       "      <td>0</td>\n",
       "      <td>0</td>\n",
       "      <td>0</td>\n",
       "      <td>0</td>\n",
       "      <td>0.000000e+00</td>\n",
       "      <td>0.000000e+00</td>\n",
       "      <td>0.000000e+00</td>\n",
       "      <td>0.000000e+00</td>\n",
       "      <td>Clearnet</td>\n",
       "      <td>Audio-Streaming</td>\n",
       "    </tr>\n",
       "    <tr>\n",
       "      <th>2</th>\n",
       "      <td>0</td>\n",
       "      <td>0</td>\n",
       "      <td>0</td>\n",
       "      <td>0</td>\n",
       "      <td>0</td>\n",
       "      <td>0</td>\n",
       "      <td>0</td>\n",
       "      <td>0</td>\n",
       "      <td>0</td>\n",
       "      <td>0</td>\n",
       "      <td>...</td>\n",
       "      <td>0</td>\n",
       "      <td>0</td>\n",
       "      <td>0</td>\n",
       "      <td>0</td>\n",
       "      <td>0.000000e+00</td>\n",
       "      <td>0.000000e+00</td>\n",
       "      <td>0.000000e+00</td>\n",
       "      <td>0.000000e+00</td>\n",
       "      <td>Clearnet</td>\n",
       "      <td>Audio-Streaming</td>\n",
       "    </tr>\n",
       "    <tr>\n",
       "      <th>3</th>\n",
       "      <td>0</td>\n",
       "      <td>0</td>\n",
       "      <td>0</td>\n",
       "      <td>0</td>\n",
       "      <td>0</td>\n",
       "      <td>0</td>\n",
       "      <td>0</td>\n",
       "      <td>0</td>\n",
       "      <td>0</td>\n",
       "      <td>0</td>\n",
       "      <td>...</td>\n",
       "      <td>0</td>\n",
       "      <td>0</td>\n",
       "      <td>0</td>\n",
       "      <td>0</td>\n",
       "      <td>0.000000e+00</td>\n",
       "      <td>0.000000e+00</td>\n",
       "      <td>0.000000e+00</td>\n",
       "      <td>0.000000e+00</td>\n",
       "      <td>Clearnet</td>\n",
       "      <td>Audio-Streaming</td>\n",
       "    </tr>\n",
       "    <tr>\n",
       "      <th>4</th>\n",
       "      <td>0</td>\n",
       "      <td>0</td>\n",
       "      <td>0</td>\n",
       "      <td>0</td>\n",
       "      <td>0</td>\n",
       "      <td>0</td>\n",
       "      <td>0</td>\n",
       "      <td>0</td>\n",
       "      <td>0</td>\n",
       "      <td>0</td>\n",
       "      <td>...</td>\n",
       "      <td>0</td>\n",
       "      <td>0</td>\n",
       "      <td>0</td>\n",
       "      <td>0</td>\n",
       "      <td>1.437765e+15</td>\n",
       "      <td>3.117718e+06</td>\n",
       "      <td>1.437765e+15</td>\n",
       "      <td>1.437765e+15</td>\n",
       "      <td>Clearnet</td>\n",
       "      <td>Audio-Streaming</td>\n",
       "    </tr>\n",
       "  </tbody>\n",
       "</table>\n",
       "<p>5 rows × 186 columns</p>\n",
       "</div>"
      ],
      "text/plain": [
       "   col_0  col_1  col_2  col_3  col_4  col_5  col_6  col_7  col_8  col_9  ...  \\\n",
       "0      0      0      0      0      0      0      0      0      0      0  ...   \n",
       "1      0      0      0      0      0      0      0      0      0      0  ...   \n",
       "2      0      0      0      0      0      0      0      0      0      0  ...   \n",
       "3      0      0      0      0      0      0      0      0      0      0  ...   \n",
       "4      0      0      0      0      0      0      0      0      0      0  ...   \n",
       "\n",
       "   Active Mean  Active Std  Active Max  Active Min     Idle Mean  \\\n",
       "0            0           0           0           0  0.000000e+00   \n",
       "1            0           0           0           0  0.000000e+00   \n",
       "2            0           0           0           0  0.000000e+00   \n",
       "3            0           0           0           0  0.000000e+00   \n",
       "4            0           0           0           0  1.437765e+15   \n",
       "\n",
       "       Idle Std      Idle Max      Idle Min     Label          Label.1  \n",
       "0  0.000000e+00  0.000000e+00  0.000000e+00  Clearnet  Audio-Streaming  \n",
       "1  0.000000e+00  0.000000e+00  0.000000e+00  Clearnet  Audio-Streaming  \n",
       "2  0.000000e+00  0.000000e+00  0.000000e+00  Clearnet  Audio-Streaming  \n",
       "3  0.000000e+00  0.000000e+00  0.000000e+00  Clearnet  Audio-Streaming  \n",
       "4  3.117718e+06  1.437765e+15  1.437765e+15  Clearnet  Audio-Streaming  \n",
       "\n",
       "[5 rows x 186 columns]"
      ]
     },
     "execution_count": 24,
     "metadata": {},
     "output_type": "execute_result"
    }
   ],
   "source": [
    "hash_enc = HashingEncoder(cols=hash_enc_cols, n_components=100).fit(model_samples)\n",
    "model_samples = hash_enc.transform(model_samples)\n",
    "model_samples.head()"
   ]
  },
  {
   "cell_type": "code",
   "execution_count": 25,
   "metadata": {},
   "outputs": [
    {
     "data": {
      "text/html": [
       "<div>\n",
       "<style scoped>\n",
       "    .dataframe tbody tr th:only-of-type {\n",
       "        vertical-align: middle;\n",
       "    }\n",
       "\n",
       "    .dataframe tbody tr th {\n",
       "        vertical-align: top;\n",
       "    }\n",
       "\n",
       "    .dataframe thead th {\n",
       "        text-align: right;\n",
       "    }\n",
       "</style>\n",
       "<table border=\"1\" class=\"dataframe\">\n",
       "  <thead>\n",
       "    <tr style=\"text-align: right;\">\n",
       "      <th></th>\n",
       "      <th>src_ip_country</th>\n",
       "      <th>dst_ip_country</th>\n",
       "    </tr>\n",
       "  </thead>\n",
       "  <tbody>\n",
       "    <tr>\n",
       "      <th>0</th>\n",
       "      <td>0</td>\n",
       "      <td>134</td>\n",
       "    </tr>\n",
       "    <tr>\n",
       "      <th>1</th>\n",
       "      <td>0</td>\n",
       "      <td>134</td>\n",
       "    </tr>\n",
       "    <tr>\n",
       "      <th>2</th>\n",
       "      <td>0</td>\n",
       "      <td>134</td>\n",
       "    </tr>\n",
       "    <tr>\n",
       "      <th>3</th>\n",
       "      <td>0</td>\n",
       "      <td>134</td>\n",
       "    </tr>\n",
       "    <tr>\n",
       "      <th>4</th>\n",
       "      <td>0</td>\n",
       "      <td>134</td>\n",
       "    </tr>\n",
       "  </tbody>\n",
       "</table>\n",
       "</div>"
      ],
      "text/plain": [
       "   src_ip_country  dst_ip_country\n",
       "0               0             134\n",
       "1               0             134\n",
       "2               0             134\n",
       "3               0             134\n",
       "4               0             134"
      ]
     },
     "execution_count": 25,
     "metadata": {},
     "output_type": "execute_result"
    }
   ],
   "source": [
    "ord_enc = OrdinalEncoder()\n",
    "ord_enc.fit(model_samples[ord_enc_cols])\n",
    "model_samples[ord_enc_cols] = ord_enc.transform(model_samples[ord_enc_cols])\n",
    "model_samples[ord_enc_cols] = model_samples[ord_enc_cols].astype(int)\n",
    "model_samples[ord_enc_cols].head() "
   ]
  },
  {
   "cell_type": "code",
   "execution_count": 26,
   "metadata": {},
   "outputs": [
    {
     "name": "stdout",
     "output_type": "stream",
     "text": [
      "Index(['col_0', 'col_1', 'col_2', 'col_3', 'col_4', 'col_5', 'col_6', 'col_7',\n",
      "       'col_8', 'col_9',\n",
      "       ...\n",
      "       'Active Mean', 'Active Std', 'Active Max', 'Active Min', 'Idle Mean',\n",
      "       'Idle Std', 'Idle Max', 'Idle Min', 'Label', 'Label.1'],\n",
      "      dtype='object', length=186)\n"
     ]
    }
   ],
   "source": [
    "print(model_samples.columns)"
   ]
  },
  {
   "cell_type": "code",
   "execution_count": 27,
   "metadata": {},
   "outputs": [
    {
     "data": {
      "text/html": [
       "<div>\n",
       "<style scoped>\n",
       "    .dataframe tbody tr th:only-of-type {\n",
       "        vertical-align: middle;\n",
       "    }\n",
       "\n",
       "    .dataframe tbody tr th {\n",
       "        vertical-align: top;\n",
       "    }\n",
       "\n",
       "    .dataframe thead th {\n",
       "        text-align: right;\n",
       "    }\n",
       "</style>\n",
       "<table border=\"1\" class=\"dataframe\">\n",
       "  <thead>\n",
       "    <tr style=\"text-align: right;\">\n",
       "      <th></th>\n",
       "      <th>Flow Duration</th>\n",
       "      <th>Total Fwd Packet</th>\n",
       "      <th>Total Bwd packets</th>\n",
       "      <th>Total Length of Fwd Packet</th>\n",
       "      <th>Total Length of Bwd Packet</th>\n",
       "      <th>Fwd Packet Length Max</th>\n",
       "      <th>Fwd Packet Length Min</th>\n",
       "      <th>Fwd Packet Length Mean</th>\n",
       "      <th>Fwd Packet Length Std</th>\n",
       "      <th>Bwd Packet Length Max</th>\n",
       "      <th>...</th>\n",
       "      <th>Bwd Packet/Bulk Avg</th>\n",
       "      <th>Bwd Bulk Rate Avg</th>\n",
       "      <th>Subflow Fwd Packets</th>\n",
       "      <th>Subflow Fwd Bytes</th>\n",
       "      <th>Subflow Bwd Packets</th>\n",
       "      <th>Subflow Bwd Bytes</th>\n",
       "      <th>FWD Init Win Bytes</th>\n",
       "      <th>Bwd Init Win Bytes</th>\n",
       "      <th>Fwd Act Data Pkts</th>\n",
       "      <th>Fwd Seg Size Min</th>\n",
       "    </tr>\n",
       "  </thead>\n",
       "  <tbody>\n",
       "    <tr>\n",
       "      <th>0</th>\n",
       "      <td>-0.546508</td>\n",
       "      <td>-0.063838</td>\n",
       "      <td>-0.044949</td>\n",
       "      <td>-0.034644</td>\n",
       "      <td>-0.028574</td>\n",
       "      <td>-0.321759</td>\n",
       "      <td>-0.498852</td>\n",
       "      <td>-0.316449</td>\n",
       "      <td>-0.379416</td>\n",
       "      <td>-0.292366</td>\n",
       "      <td>...</td>\n",
       "      <td>-0.052228</td>\n",
       "      <td>-0.043209</td>\n",
       "      <td>-0.634075</td>\n",
       "      <td>-0.313203</td>\n",
       "      <td>0.0</td>\n",
       "      <td>-0.413046</td>\n",
       "      <td>-0.345303</td>\n",
       "      <td>-0.095141</td>\n",
       "      <td>-0.061219</td>\n",
       "      <td>0.589647</td>\n",
       "    </tr>\n",
       "    <tr>\n",
       "      <th>1</th>\n",
       "      <td>-0.546503</td>\n",
       "      <td>-0.063838</td>\n",
       "      <td>-0.044949</td>\n",
       "      <td>-0.034644</td>\n",
       "      <td>-0.028574</td>\n",
       "      <td>-0.321759</td>\n",
       "      <td>-0.498852</td>\n",
       "      <td>-0.316449</td>\n",
       "      <td>-0.379416</td>\n",
       "      <td>-0.292366</td>\n",
       "      <td>...</td>\n",
       "      <td>-0.052228</td>\n",
       "      <td>-0.043209</td>\n",
       "      <td>-0.634075</td>\n",
       "      <td>-0.313203</td>\n",
       "      <td>0.0</td>\n",
       "      <td>-0.413046</td>\n",
       "      <td>-0.335704</td>\n",
       "      <td>-0.095141</td>\n",
       "      <td>-0.061219</td>\n",
       "      <td>0.589647</td>\n",
       "    </tr>\n",
       "    <tr>\n",
       "      <th>2</th>\n",
       "      <td>-0.546502</td>\n",
       "      <td>-0.063838</td>\n",
       "      <td>-0.044949</td>\n",
       "      <td>-0.034644</td>\n",
       "      <td>-0.028574</td>\n",
       "      <td>-0.321759</td>\n",
       "      <td>-0.498852</td>\n",
       "      <td>-0.316449</td>\n",
       "      <td>-0.379416</td>\n",
       "      <td>-0.292366</td>\n",
       "      <td>...</td>\n",
       "      <td>-0.052228</td>\n",
       "      <td>-0.043209</td>\n",
       "      <td>-0.634075</td>\n",
       "      <td>-0.313203</td>\n",
       "      <td>0.0</td>\n",
       "      <td>-0.413046</td>\n",
       "      <td>-0.329439</td>\n",
       "      <td>-0.095141</td>\n",
       "      <td>-0.061219</td>\n",
       "      <td>0.589647</td>\n",
       "    </tr>\n",
       "    <tr>\n",
       "      <th>3</th>\n",
       "      <td>-0.546504</td>\n",
       "      <td>-0.063838</td>\n",
       "      <td>-0.044949</td>\n",
       "      <td>-0.034644</td>\n",
       "      <td>-0.028574</td>\n",
       "      <td>-0.321759</td>\n",
       "      <td>-0.498852</td>\n",
       "      <td>-0.316449</td>\n",
       "      <td>-0.379416</td>\n",
       "      <td>-0.292366</td>\n",
       "      <td>...</td>\n",
       "      <td>-0.052228</td>\n",
       "      <td>-0.043209</td>\n",
       "      <td>-0.634075</td>\n",
       "      <td>-0.313203</td>\n",
       "      <td>0.0</td>\n",
       "      <td>-0.413046</td>\n",
       "      <td>-0.333582</td>\n",
       "      <td>-0.095141</td>\n",
       "      <td>-0.061219</td>\n",
       "      <td>0.589647</td>\n",
       "    </tr>\n",
       "    <tr>\n",
       "      <th>4</th>\n",
       "      <td>-0.263585</td>\n",
       "      <td>0.184194</td>\n",
       "      <td>0.071741</td>\n",
       "      <td>-0.014801</td>\n",
       "      <td>-0.027116</td>\n",
       "      <td>-0.120075</td>\n",
       "      <td>-0.498852</td>\n",
       "      <td>0.179861</td>\n",
       "      <td>-0.247304</td>\n",
       "      <td>0.340530</td>\n",
       "      <td>...</td>\n",
       "      <td>0.164343</td>\n",
       "      <td>-0.036900</td>\n",
       "      <td>-0.634075</td>\n",
       "      <td>0.158678</td>\n",
       "      <td>0.0</td>\n",
       "      <td>-0.368398</td>\n",
       "      <td>-0.396835</td>\n",
       "      <td>0.073134</td>\n",
       "      <td>0.305786</td>\n",
       "      <td>0.589647</td>\n",
       "    </tr>\n",
       "  </tbody>\n",
       "</table>\n",
       "<p>5 rows × 68 columns</p>\n",
       "</div>"
      ],
      "text/plain": [
       "   Flow Duration  Total Fwd Packet  Total Bwd packets  \\\n",
       "0      -0.546508         -0.063838          -0.044949   \n",
       "1      -0.546503         -0.063838          -0.044949   \n",
       "2      -0.546502         -0.063838          -0.044949   \n",
       "3      -0.546504         -0.063838          -0.044949   \n",
       "4      -0.263585          0.184194           0.071741   \n",
       "\n",
       "   Total Length of Fwd Packet  Total Length of Bwd Packet  \\\n",
       "0                   -0.034644                   -0.028574   \n",
       "1                   -0.034644                   -0.028574   \n",
       "2                   -0.034644                   -0.028574   \n",
       "3                   -0.034644                   -0.028574   \n",
       "4                   -0.014801                   -0.027116   \n",
       "\n",
       "   Fwd Packet Length Max  Fwd Packet Length Min  Fwd Packet Length Mean  \\\n",
       "0              -0.321759              -0.498852               -0.316449   \n",
       "1              -0.321759              -0.498852               -0.316449   \n",
       "2              -0.321759              -0.498852               -0.316449   \n",
       "3              -0.321759              -0.498852               -0.316449   \n",
       "4              -0.120075              -0.498852                0.179861   \n",
       "\n",
       "   Fwd Packet Length Std  Bwd Packet Length Max  ...  Bwd Packet/Bulk Avg  \\\n",
       "0              -0.379416              -0.292366  ...            -0.052228   \n",
       "1              -0.379416              -0.292366  ...            -0.052228   \n",
       "2              -0.379416              -0.292366  ...            -0.052228   \n",
       "3              -0.379416              -0.292366  ...            -0.052228   \n",
       "4              -0.247304               0.340530  ...             0.164343   \n",
       "\n",
       "   Bwd Bulk Rate Avg  Subflow Fwd Packets  Subflow Fwd Bytes  \\\n",
       "0          -0.043209            -0.634075          -0.313203   \n",
       "1          -0.043209            -0.634075          -0.313203   \n",
       "2          -0.043209            -0.634075          -0.313203   \n",
       "3          -0.043209            -0.634075          -0.313203   \n",
       "4          -0.036900            -0.634075           0.158678   \n",
       "\n",
       "   Subflow Bwd Packets  Subflow Bwd Bytes  FWD Init Win Bytes  \\\n",
       "0                  0.0          -0.413046           -0.345303   \n",
       "1                  0.0          -0.413046           -0.335704   \n",
       "2                  0.0          -0.413046           -0.329439   \n",
       "3                  0.0          -0.413046           -0.333582   \n",
       "4                  0.0          -0.368398           -0.396835   \n",
       "\n",
       "   Bwd Init Win Bytes  Fwd Act Data Pkts  Fwd Seg Size Min  \n",
       "0           -0.095141          -0.061219          0.589647  \n",
       "1           -0.095141          -0.061219          0.589647  \n",
       "2           -0.095141          -0.061219          0.589647  \n",
       "3           -0.095141          -0.061219          0.589647  \n",
       "4            0.073134           0.305786          0.589647  \n",
       "\n",
       "[5 rows x 68 columns]"
      ]
     },
     "execution_count": 27,
     "metadata": {},
     "output_type": "execute_result"
    }
   ],
   "source": [
    "scaler = StandardScaler().fit(model_samples[real_columns])\n",
    "model_samples[real_columns] = scaler.transform(model_samples[real_columns])\n",
    "model_samples[real_columns].head()"
   ]
  },
  {
   "cell_type": "code",
   "execution_count": 28,
   "metadata": {},
   "outputs": [
    {
     "name": "stdout",
     "output_type": "stream",
     "text": [
      "Series([], dtype: float64)\n"
     ]
    }
   ],
   "source": [
    "samples = samples.dropna()\n",
    "model_samples = model_samples.dropna()\n",
    "print(samples[samples.columns[samples.isna().sum()>0]].isna().sum())"
   ]
  },
  {
   "cell_type": "code",
   "execution_count": 29,
   "metadata": {},
   "outputs": [],
   "source": [
    "samples.to_csv('darknet_dataset_processed.csv', index=False)"
   ]
  },
  {
   "cell_type": "code",
   "execution_count": 30,
   "metadata": {},
   "outputs": [],
   "source": [
    "model_samples.to_csv('darknet_dataset_processed_encoded.csv', index=False)"
   ]
  },
  {
   "cell_type": "code",
   "execution_count": null,
   "metadata": {},
   "outputs": [],
   "source": []
  },
  {
   "cell_type": "code",
   "execution_count": 31,
   "metadata": {},
   "outputs": [],
   "source": [
    "samples = pd.read_csv('darknet_dataset_processed.csv')"
   ]
  },
  {
   "cell_type": "code",
   "execution_count": 32,
   "metadata": {},
   "outputs": [
    {
     "data": {
      "image/png": "[encoded data removed]",
      "text/plain": [
       "<Figure size 360x360 with 1 Axes>"
      ]
     },
     "metadata": {},
     "output_type": "display_data"
    }
   ],
   "source": [
    "df = samples.groupby(\"Label\").count()\n",
    "fig, ax = plt.subplots(figsize=(5,5))\n",
    "\n",
    "df.plot(y=\"Label.1\", legend=None, ax=ax, shadow=False, kind=\"pie\", fontsize=18,autopct=lambda x: int(df[\"Label.1\"].values.sum()*x/100))\n",
    "plt.ylabel(\"\")\n",
    "plt.tight_layout()\n",
    "plt.show()"
   ]
  },
  {
   "cell_type": "code",
   "execution_count": 33,
   "metadata": {},
   "outputs": [
    {
     "data": {
      "image/png": "[encoded data removed]",
      "text/plain": [
       "<Figure size 432x288 with 1 Axes>"
      ]
     },
     "metadata": {
      "needs_background": "light"
     },
     "output_type": "display_data"
    }
   ],
   "source": [
    "sns.histplot(data=samples, x=\"Label\", stat=\"frequency\")\n",
    "plt.xlabel('')\n",
    "plt.show()"
   ]
  },
  {
   "cell_type": "code",
   "execution_count": 37,
   "metadata": {},
   "outputs": [
    {
     "data": {
      "image/png": "[encoded data removed]",
      "text/plain": [
       "<Figure size 432x288 with 1 Axes>"
      ]
     },
     "metadata": {
      "needs_background": "light"
     },
     "output_type": "display_data"
    }
   ],
   "source": [
    "plot_graph_darknet = samples[samples['Label'] == \"Darknet\"]\n",
    "plot_graph_Clearnet = samples[samples['Label'] == \"Clearnet\"]\n",
    "sns.kdeplot(plot_graph_darknet['hour'], shade=True)\n",
    "sns.kdeplot(plot_graph_Clearnet['hour'], shade=True)\n",
    "plt.xlabel(\"Hours\")\n",
    "plt.ylabel(\"Density\")\n",
    "plt.legend(['Darknet', 'Clearnet'])\n",
    "plt.show()"
   ]
  },
  {
   "cell_type": "code",
   "execution_count": 35,
   "metadata": {},
   "outputs": [
    {
     "data": {
      "image/png": "[encoded data removed]",
      "text/plain": [
       "<Figure size 432x288 with 1 Axes>"
      ]
     },
     "metadata": {
      "needs_background": "light"
     },
     "output_type": "display_data"
    }
   ],
   "source": [
    "sns.histplot(data=samples[samples['Label'] == \"Clearnet\"], x=\"Label.1\", stat=\"probability\")\n",
    "plt.xlabel('')\n",
    "plt.show()"
   ]
  },
  {
   "cell_type": "code",
   "execution_count": 36,
   "metadata": {},
   "outputs": [
    {
     "data": {
      "image/png": "[encoded data removed]",
      "text/plain": [
       "<Figure size 432x288 with 1 Axes>"
      ]
     },
     "metadata": {
      "needs_background": "light"
     },
     "output_type": "display_data"
    }
   ],
   "source": [
    "sns.histplot(data=samples[samples['Label'] == \"Darknet\"], x=\"Label.1\", stat=\"probability\")\n",
    "plt.xlabel('')\n",
    "plt.show()"
   ]
  },
  {
   "cell_type": "code",
   "execution_count": null,
   "metadata": {},
   "outputs": [],
   "source": []
  }
 ],
 "metadata": {
  "kernelspec": {
   "display_name": "Python 3.9.7 ('base')",
   "language": "python",
   "name": "python3"
  },
  "language_info": {
   "codemirror_mode": {
    "name": "ipython",
    "version": 3
   },
   "file_extension": ".py",
   "mimetype": "text/x-python",
   "name": "python",
   "nbconvert_exporter": "python",
   "pygments_lexer": "ipython3",
   "version": "3.9.7"
  },
  "orig_nbformat": 4,
  "vscode": {
   "interpreter": {
    "hash": "ed485520ce1797e418d9887ecd877359b3898b0b6b80e800d20a0088dd289685"
   }
  }
 },
 "nbformat": 4,
 "nbformat_minor": 2
}
